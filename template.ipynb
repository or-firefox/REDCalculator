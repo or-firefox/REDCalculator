{
 "cells": [
  {
   "cell_type": "code",
   "execution_count": null,
   "id": "039a347a",
   "metadata": {},
   "outputs": [],
   "source": [
    "from utils.utils import get_off_data, get_signal_data, get_azimov_error\n",
    "from utils.utils import n_bins, Mfv\n",
    "import pandas as pd\n",
    "import matplotlib.pyplot as plt\n",
    "import numpy as np"
   ]
  },
  {
   "cell_type": "markdown",
   "id": "8da0c99d",
   "metadata": {},
   "source": [
    "**Parameters of the data collection**\n",
    "\n",
    "T_off -- livetime during reactor OFF period\n",
    "\n",
    "T_on -- livetime during reactor ON period\n",
    "\n",
    "Time periods are indicated in days."
   ]
  },
  {
   "cell_type": "code",
   "execution_count": null,
   "id": "9d170307",
   "metadata": {},
   "outputs": [],
   "source": [
    "T_off = 1\n",
    "T_on = 3"
   ]
  },
  {
   "cell_type": "markdown",
   "id": "8987bc01",
   "metadata": {},
   "source": [
    "**Nuclear recouil spectrum**\n",
    "\n",
    "The differential nuclear recoil spectrum based on reactor antineutrion spectrum SM2018 is proposed as an example. It should have two columns (\"T[keV]\" and \"spectrum\"), where \"spectrum\" should represent count rate per day per 100 kg per keV."
   ]
  },
  {
   "cell_type": "code",
   "execution_count": null,
   "id": "6b290f05",
   "metadata": {},
   "outputs": [],
   "source": [
    "spectrum = pd.read_csv('spectra/SM2018.csv')"
   ]
  },
  {
   "cell_type": "markdown",
   "id": "c446a1e5",
   "metadata": {},
   "source": [
    "**Loading necessary data**"
   ]
  },
  {
   "cell_type": "code",
   "execution_count": null,
   "id": "829c0359",
   "metadata": {},
   "outputs": [],
   "source": [
    "bg_data = pd.read_csv('data/bg_data.csv')\n",
    "table_data = pd.read_csv('data/table_data.csv')\n",
    "table_data.columns = [table_data.columns[0]] + [float(col) for col in table_data.columns[1:]]"
   ]
  },
  {
   "cell_type": "markdown",
   "id": "6984c630",
   "metadata": {},
   "source": [
    "**Constructing signal and Azimov datasets**\n",
    "\n",
    "Signal is multiplied by a coefficent of 100 in order to be more noticable in figures."
   ]
  },
  {
   "cell_type": "code",
   "execution_count": null,
   "id": "cf7625ea",
   "metadata": {},
   "outputs": [],
   "source": [
    "hist_data = pd.DataFrame()\n",
    "hist_data['bin_center'] = bg_data['bin_center']\n",
    "hist_data['OFF_counts'] = get_off_data(bg_data['OFF_1day'],T_off)\n",
    "hist_data['azimov_error'] = get_azimov_error(bg_data['OFF_1day'], T_off, T_on)\n",
    "hist_data['signal'] = 100*get_signal_data(table_data, spectrum, T_on)"
   ]
  },
  {
   "cell_type": "markdown",
   "id": "c5aeb634",
   "metadata": {},
   "source": [
    "**Drawing histograms**"
   ]
  },
  {
   "cell_type": "code",
   "execution_count": null,
   "id": "136a791e",
   "metadata": {},
   "outputs": [],
   "source": [
    "plt.rcParams.update({'font.size': 15})\n",
    "fig = plt.figure(figsize = [8,10])\n",
    "gs = fig.add_gridspec(3, hspace=0.4)\n",
    "axs = gs.subplots(sharex=False, sharey=True)\n",
    "\n",
    "left_bin = 0\n",
    "right_bin = left_bin+n_bins\n",
    "axs[0].set_ylim(-1.1*max(hist_data.azimov_error)/(Mfv*T_on), 1.1*max(hist_data.azimov_error)/(Mfv*T_on))\n",
    "axs[0].grid()\n",
    "axs[0].errorbar(hist_data[left_bin:right_bin].bin_center, np.zeros(n_bins),  (1/Mfv)*(1/T_on)*(hist_data.azimov_error[left_bin:right_bin]), fmt = 'o', capsize=5, color = 'black', label = 'Azimov dataset')\n",
    "axs[0].bar(hist_data[left_bin:right_bin].bin_center, (1/Mfv)*(1/T_on)*hist_data[left_bin:right_bin].signal, label = 'signal', width = 0.95*(7-4.074)*27/15, color = 'C3')\n",
    "axs[0].legend()\n",
    "axs[0].set_xlabel('Corrected energy [PE]')\n",
    "axs[0].set_ylabel('Counts×\\n×kg$^{-1}\\cdot$day$^{-1}$')\n",
    "axs[0].set_xlim(110,189)\n",
    "\n",
    "left_bin = n_bins\n",
    "right_bin = left_bin+n_bins\n",
    "axs[1].set_ylim(-1.1*max(hist_data.azimov_error)/(Mfv*T_on), 1.1*max(hist_data.azimov_error)/(Mfv*T_on))\n",
    "axs[1].grid()\n",
    "axs[1].errorbar(hist_data[left_bin:right_bin].bin_center, np.zeros(n_bins),  (1/Mfv)*(1/T_on)*(hist_data.azimov_error[left_bin:right_bin]), fmt = 'o', capsize=5, color = 'black', label = 'Azimov dataset')\n",
    "axs[1].bar(hist_data[left_bin:right_bin].bin_center, (1/Mfv)*(1/T_on)*hist_data[left_bin:right_bin].signal, label = 'signal', width = 0.95*(4000-1700)/15, color = 'C3')\n",
    "axs[1].legend()\n",
    "axs[1].set_xlabel('Duration [ns]')\n",
    "axs[1].set_ylabel('Counts×\\n×kg$^{-1}\\cdot$day$^{-1}$')\n",
    "axs[1].set_xlim(1700,4000)\n",
    "\n",
    "left_bin = 2*n_bins\n",
    "right_bin = left_bin+n_bins\n",
    "axs[2].set_ylim(-1.1*max(hist_data.azimov_error)/(Mfv*T_on), 1.1*max(hist_data.azimov_error)/(Mfv*T_on))\n",
    "axs[2].grid()\n",
    "axs[2].errorbar(hist_data[left_bin:right_bin].bin_center, np.zeros(n_bins),  (1/Mfv)*(1/T_on)*(hist_data.azimov_error[left_bin:right_bin]), fmt = 'o', capsize=5, color = 'black', label = 'Azimov dataset')\n",
    "axs[2].bar(hist_data[left_bin:right_bin].bin_center, (1/Mfv)*(1/T_on)*hist_data[left_bin:right_bin].signal, label = 'signal', width = 0.95*(140**2)/15, color = 'C3')\n",
    "axs[2].legend()\n",
    "axs[2].set_xlabel('Reconstructed radius$^2$ [mm$^2$]')\n",
    "axs[2].set_ylabel('Counts×\\n×kg$^{-1}\\cdot$day$^{-1}$')\n",
    "axs[2].set_xlim(0,140**2)"
   ]
  },
  {
   "cell_type": "code",
   "execution_count": null,
   "id": "ab09719d",
   "metadata": {},
   "outputs": [],
   "source": []
  }
 ],
 "metadata": {
  "kernelspec": {
   "display_name": "Python 3 (ipykernel)",
   "language": "python",
   "name": "python3"
  },
  "language_info": {
   "codemirror_mode": {
    "name": "ipython",
    "version": 3
   },
   "file_extension": ".py",
   "mimetype": "text/x-python",
   "name": "python",
   "nbconvert_exporter": "python",
   "pygments_lexer": "ipython3",
   "version": "3.11.3"
  }
 },
 "nbformat": 4,
 "nbformat_minor": 5
}
